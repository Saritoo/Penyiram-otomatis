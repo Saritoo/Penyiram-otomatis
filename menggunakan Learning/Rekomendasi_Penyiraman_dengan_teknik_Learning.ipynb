{
  "nbformat": 4,
  "nbformat_minor": 0,
  "metadata": {
    "colab": {
      "provenance": [],
      "authorship_tag": "ABX9TyMgtb97JDYKXLLCw/ZILcxK",
      "include_colab_link": true
    },
    "kernelspec": {
      "name": "python3",
      "display_name": "Python 3"
    },
    "language_info": {
      "name": "python"
    }
  },
  "cells": [
    {
      "cell_type": "markdown",
      "metadata": {
        "id": "view-in-github",
        "colab_type": "text"
      },
      "source": [
        "<a href=\"https://colab.research.google.com/github/Saritoo/Penyiram-otomatis/blob/main/Rekomendasi_Penyiraman_dengan_teknik_Learning.ipynb\" target=\"_parent\"><img src=\"https://colab.research.google.com/assets/colab-badge.svg\" alt=\"Open In Colab\"/></a>"
      ]
    },
    {
      "cell_type": "markdown",
      "source": [
        "# Import Library"
      ],
      "metadata": {
        "id": "V95yvFAMQWFQ"
      }
    },
    {
      "cell_type": "code",
      "execution_count": 33,
      "metadata": {
        "id": "SDB5LuGiQB85"
      },
      "outputs": [],
      "source": [
        "import pandas as pd\n",
        "from sklearn.naive_bayes import GaussianNB"
      ]
    },
    {
      "cell_type": "markdown",
      "source": [
        "# Fungsi untuk klasifikasi suhu dan kelembaban"
      ],
      "metadata": {
        "id": "IGCXAmDIQa9q"
      }
    },
    {
      "cell_type": "code",
      "source": [
        "def klasifikasi(kelembaban_tanah, suhu):\n",
        "    hasil = []\n",
        "    if suhu >= 26 and suhu <= 31:\n",
        "        hasil.append(0)\n",
        "    elif suhu > 31:\n",
        "        hasil.append(1)\n",
        "    elif suhu < 26:\n",
        "        hasil.append(2)\n",
        "\n",
        "    if kelembaban_tanah >= 50 and kelembaban_tanah <= 80:\n",
        "        hasil.append(0)\n",
        "    elif kelembaban_tanah > 80 and kelembaban_tanah <= 125:\n",
        "        hasil.append(1)\n",
        "    elif kelembaban_tanah > 125:\n",
        "        hasil.append(2)\n",
        "    elif kelembaban_tanah < 50:\n",
        "        hasil.append(3)\n",
        "    return hasil"
      ],
      "metadata": {
        "id": "RhsIiKqKQfKt"
      },
      "execution_count": 34,
      "outputs": []
    },
    {
      "cell_type": "markdown",
      "source": [
        "# Fungsi untuk preprocessing data"
      ],
      "metadata": {
        "id": "I0s8d3F6QldN"
      }
    },
    {
      "cell_type": "code",
      "source": [
        "def preprocess(data_train):\n",
        "    elemen = []\n",
        "    durasi_penyiraman = []\n",
        "\n",
        "    for single_data in data_train:\n",
        "        elemen.append(tuple(klasifikasi(single_data[0], single_data[1])))\n",
        "        if single_data[2] >= 0 and single_data[2] <= 20:\n",
        "            durasi_penyiraman.append(0)\n",
        "        elif single_data[2] > 20 and single_data[2] <= 30:\n",
        "            durasi_penyiraman.append(1)\n",
        "        elif single_data[2] > 30:\n",
        "            durasi_penyiraman.append(2)\n",
        "    return elemen, durasi_penyiraman"
      ],
      "metadata": {
        "id": "XpohQZ0OQntN"
      },
      "execution_count": 35,
      "outputs": []
    },
    {
      "cell_type": "markdown",
      "source": [
        "# Fungsi untuk validasi input"
      ],
      "metadata": {
        "id": "spIK3s9YQqu9"
      }
    },
    {
      "cell_type": "code",
      "source": [
        "\n",
        "def dataValid(kelembaban_tanah, suhu):\n",
        "    if suhu.isdigit() and kelembaban_tanah.isdigit():\n",
        "        return True\n",
        "    return False"
      ],
      "metadata": {
        "id": "tHzE8e-BQuoX"
      },
      "execution_count": 36,
      "outputs": []
    },
    {
      "cell_type": "markdown",
      "source": [
        "# Membaca datasheet csv dan membuat model"
      ],
      "metadata": {
        "id": "Wx2sJjVNQ3xO"
      }
    },
    {
      "cell_type": "code",
      "source": [
        "# Membaca data dari file csv\n",
        "data_train = pd.read_csv('/content/datasheetsiram (1).csv').values.tolist()\n",
        "\n",
        "# Proses preprocessing data\n",
        "elemen, features = preprocess(data_train)\n",
        "\n",
        "# Membuat model Naive Bayes\n",
        "model = GaussianNB()\n",
        "model.fit(elemen, features)"
      ],
      "metadata": {
        "id": "x3sbhTIoRA-r",
        "colab": {
          "base_uri": "https://localhost:8080/",
          "height": 75
        },
        "outputId": "7128f176-5f03-412c-912c-22fb13a85e37"
      },
      "execution_count": 37,
      "outputs": [
        {
          "output_type": "execute_result",
          "data": {
            "text/plain": [
              "GaussianNB()"
            ],
            "text/html": [
              "<style>#sk-container-id-2 {color: black;background-color: white;}#sk-container-id-2 pre{padding: 0;}#sk-container-id-2 div.sk-toggleable {background-color: white;}#sk-container-id-2 label.sk-toggleable__label {cursor: pointer;display: block;width: 100%;margin-bottom: 0;padding: 0.3em;box-sizing: border-box;text-align: center;}#sk-container-id-2 label.sk-toggleable__label-arrow:before {content: \"▸\";float: left;margin-right: 0.25em;color: #696969;}#sk-container-id-2 label.sk-toggleable__label-arrow:hover:before {color: black;}#sk-container-id-2 div.sk-estimator:hover label.sk-toggleable__label-arrow:before {color: black;}#sk-container-id-2 div.sk-toggleable__content {max-height: 0;max-width: 0;overflow: hidden;text-align: left;background-color: #f0f8ff;}#sk-container-id-2 div.sk-toggleable__content pre {margin: 0.2em;color: black;border-radius: 0.25em;background-color: #f0f8ff;}#sk-container-id-2 input.sk-toggleable__control:checked~div.sk-toggleable__content {max-height: 200px;max-width: 100%;overflow: auto;}#sk-container-id-2 input.sk-toggleable__control:checked~label.sk-toggleable__label-arrow:before {content: \"▾\";}#sk-container-id-2 div.sk-estimator input.sk-toggleable__control:checked~label.sk-toggleable__label {background-color: #d4ebff;}#sk-container-id-2 div.sk-label input.sk-toggleable__control:checked~label.sk-toggleable__label {background-color: #d4ebff;}#sk-container-id-2 input.sk-hidden--visually {border: 0;clip: rect(1px 1px 1px 1px);clip: rect(1px, 1px, 1px, 1px);height: 1px;margin: -1px;overflow: hidden;padding: 0;position: absolute;width: 1px;}#sk-container-id-2 div.sk-estimator {font-family: monospace;background-color: #f0f8ff;border: 1px dotted black;border-radius: 0.25em;box-sizing: border-box;margin-bottom: 0.5em;}#sk-container-id-2 div.sk-estimator:hover {background-color: #d4ebff;}#sk-container-id-2 div.sk-parallel-item::after {content: \"\";width: 100%;border-bottom: 1px solid gray;flex-grow: 1;}#sk-container-id-2 div.sk-label:hover label.sk-toggleable__label {background-color: #d4ebff;}#sk-container-id-2 div.sk-serial::before {content: \"\";position: absolute;border-left: 1px solid gray;box-sizing: border-box;top: 0;bottom: 0;left: 50%;z-index: 0;}#sk-container-id-2 div.sk-serial {display: flex;flex-direction: column;align-items: center;background-color: white;padding-right: 0.2em;padding-left: 0.2em;position: relative;}#sk-container-id-2 div.sk-item {position: relative;z-index: 1;}#sk-container-id-2 div.sk-parallel {display: flex;align-items: stretch;justify-content: center;background-color: white;position: relative;}#sk-container-id-2 div.sk-item::before, #sk-container-id-2 div.sk-parallel-item::before {content: \"\";position: absolute;border-left: 1px solid gray;box-sizing: border-box;top: 0;bottom: 0;left: 50%;z-index: -1;}#sk-container-id-2 div.sk-parallel-item {display: flex;flex-direction: column;z-index: 1;position: relative;background-color: white;}#sk-container-id-2 div.sk-parallel-item:first-child::after {align-self: flex-end;width: 50%;}#sk-container-id-2 div.sk-parallel-item:last-child::after {align-self: flex-start;width: 50%;}#sk-container-id-2 div.sk-parallel-item:only-child::after {width: 0;}#sk-container-id-2 div.sk-dashed-wrapped {border: 1px dashed gray;margin: 0 0.4em 0.5em 0.4em;box-sizing: border-box;padding-bottom: 0.4em;background-color: white;}#sk-container-id-2 div.sk-label label {font-family: monospace;font-weight: bold;display: inline-block;line-height: 1.2em;}#sk-container-id-2 div.sk-label-container {text-align: center;}#sk-container-id-2 div.sk-container {/* jupyter's `normalize.less` sets `[hidden] { display: none; }` but bootstrap.min.css set `[hidden] { display: none !important; }` so we also need the `!important` here to be able to override the default hidden behavior on the sphinx rendered scikit-learn.org. See: https://github.com/scikit-learn/scikit-learn/issues/21755 */display: inline-block !important;position: relative;}#sk-container-id-2 div.sk-text-repr-fallback {display: none;}</style><div id=\"sk-container-id-2\" class=\"sk-top-container\"><div class=\"sk-text-repr-fallback\"><pre>GaussianNB()</pre><b>In a Jupyter environment, please rerun this cell to show the HTML representation or trust the notebook. <br />On GitHub, the HTML representation is unable to render, please try loading this page with nbviewer.org.</b></div><div class=\"sk-container\" hidden><div class=\"sk-item\"><div class=\"sk-estimator sk-toggleable\"><input class=\"sk-toggleable__control sk-hidden--visually\" id=\"sk-estimator-id-2\" type=\"checkbox\" checked><label for=\"sk-estimator-id-2\" class=\"sk-toggleable__label sk-toggleable__label-arrow\">GaussianNB</label><div class=\"sk-toggleable__content\"><pre>GaussianNB()</pre></div></div></div></div></div>"
            ]
          },
          "metadata": {},
          "execution_count": 37
        }
      ]
    },
    {
      "cell_type": "markdown",
      "source": [
        "# Program utama untuk memberikan rekomendasi waktu penyiraman tanaman"
      ],
      "metadata": {
        "id": "IHCzOcKuRMV3"
      }
    },
    {
      "cell_type": "code",
      "source": [
        "print(\"Program Rekomendasi Waktu Penyiraman Tanaman\")\n",
        "print(\"Masukkan Kelembaban Tanah:\")\n",
        "kelembaban_tanah = input()\n",
        "print(\"Masukkan Suhu (Celcius):\")\n",
        "suhu = input()\n",
        "\n",
        "if dataValid(kelembaban_tanah, suhu):\n",
        "    # Menentukan hasil prediksi, predict berdasarkan validasi dataset dengan membandingkan dengan data_train yang lalu\n",
        "    pred = model.predict([klasifikasi(int(kelembaban_tanah), int(suhu))]).tolist()\n",
        "    print(\"Rekomendasi waktu penyiraman: \", end='')\n",
        "    if pred[0] == 0:\n",
        "        print(\"0-20 detik\")\n",
        "    elif pred[0] == 1:\n",
        "        print(\"21-30 detik\")\n",
        "    elif pred[0] == 2:\n",
        "        print(\"Diatas 30 detik\")\n",
        "else:\n",
        "    print(\"Maaf, data yang anda masukan tidak valid!\")\n"
      ],
      "metadata": {
        "id": "KVNzefVmRNWT",
        "colab": {
          "base_uri": "https://localhost:8080/"
        },
        "outputId": "598e6194-5f0a-435e-a1ae-a78861562e27"
      },
      "execution_count": 42,
      "outputs": [
        {
          "output_type": "stream",
          "name": "stdout",
          "text": [
            "Program Rekomendasi Waktu Penyiraman Tanaman\n",
            "Masukkan Kelembaban Tanah:\n",
            "30\n",
            "Masukkan Suhu (Celcius):\n",
            "25\n",
            "Rekomendasi waktu penyiraman: Diatas 30 menit\n"
          ]
        }
      ]
    }
  ]
}